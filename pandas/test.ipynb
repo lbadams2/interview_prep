{
 "cells": [
  {
   "cell_type": "code",
   "execution_count": null,
   "metadata": {},
   "outputs": [],
   "source": [
    "import pandas as pd\n",
    "import numpy as np"
   ]
  },
  {
   "cell_type": "code",
   "execution_count": null,
   "metadata": {},
   "outputs": [],
   "source": [
    "df = pd.read_csv('loans.csv')"
   ]
  },
  {
   "cell_type": "code",
   "execution_count": null,
   "metadata": {},
   "outputs": [],
   "source": [
    "# check for duplicates\n",
    "g = df.groupby(['LOAN_ID'])\n",
    "g.filter(lambda x: len(x) > 1)"
   ]
  },
  {
   "cell_type": "code",
   "execution_count": null,
   "metadata": {},
   "outputs": [],
   "source": [
    "# https://stackoverflow.com/questions/28199524/best-way-to-count-the-number-of-rows-with-missing-values-in-a-pandas-dataframe\n",
    "\n",
    "# Count rows containing at least one NaN\n",
    "print(df.shape[0] - df.dropna().shape[0])\n",
    "\n",
    "# Count cells with NaN\n",
    "print(df.isnull().values.ravel().sum())"
   ]
  },
  {
   "cell_type": "code",
   "execution_count": null,
   "metadata": {},
   "outputs": [],
   "source": [
    "# Get row indices with NaN values\n",
    "idx, idy = np.where(pd.isnull(df))"
   ]
  },
  {
   "cell_type": "code",
   "execution_count": null,
   "metadata": {},
   "outputs": [],
   "source": [
    "# get bundles from bundles col\n",
    "bundles = set()\n",
    "df['LOAN_BUNDLE'] = df['LOAN_BUNDLE'].astype(str)\n",
    "df['LOAN_BUNDLE'].apply(lambda x: bundles.update(x.split(\",\")))"
   ]
  },
  {
   "cell_type": "code",
   "execution_count": null,
   "metadata": {},
   "outputs": [],
   "source": [
    "# group by and agg\n",
    "df.groupby('LOAN_ID')[['RISK_RATING','ORIGINAL_PRICE_USD']].agg(['sum'])"
   ]
  },
  {
   "cell_type": "code",
   "execution_count": null,
   "metadata": {},
   "outputs": [],
   "source": [
    "# select where\n",
    "filtered_df = df.loc[df['LOAN_ID'] == 'xxxxxx']"
   ]
  }
 ],
 "metadata": {
  "kernelspec": {
   "display_name": "kiva",
   "language": "python",
   "name": "python3"
  },
  "language_info": {
   "name": "python",
   "version": "3.9.16"
  },
  "orig_nbformat": 4
 },
 "nbformat": 4,
 "nbformat_minor": 2
}
